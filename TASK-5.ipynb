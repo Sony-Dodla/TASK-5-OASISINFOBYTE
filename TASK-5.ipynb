{
  "nbformat": 4,
  "nbformat_minor": 0,
  "metadata": {
    "colab": {
      "provenance": [],
      "authorship_tag": "ABX9TyPC1cDH8In+xyyGNqaDzeu+",
      "include_colab_link": true
    },
    "kernelspec": {
      "name": "python3",
      "display_name": "Python 3"
    },
    "language_info": {
      "name": "python"
    }
  },
  "cells": [
    {
      "cell_type": "markdown",
      "metadata": {
        "id": "view-in-github",
        "colab_type": "text"
      },
      "source": [
        "<a href=\"https://colab.research.google.com/github/Sony-Dodla/TASK-5-OASISINFOBYTE/blob/main/TASK-5.ipynb\" target=\"_parent\"><img src=\"https://colab.research.google.com/assets/colab-badge.svg\" alt=\"Open In Colab\"/></a>"
      ]
    },
    {
      "cell_type": "code",
      "execution_count": 3,
      "metadata": {
        "colab": {
          "base_uri": "https://localhost:8080/"
        },
        "id": "z9FehjibwFka",
        "outputId": "550ecde1-23f9-4dbc-e976-b07f027bcfc4"
      },
      "outputs": [
        {
          "output_type": "stream",
          "name": "stdout",
          "text": [
            "   Unnamed: 0     TV  Radio  Newspaper  Sales\n",
            "0           1  230.1   37.8       69.2   22.1\n",
            "1           2   44.5   39.3       45.1   10.4\n",
            "2           3   17.2   45.9       69.3    9.3\n",
            "3           4  151.5   41.3       58.5   18.5\n",
            "4           5  180.8   10.8       58.4   12.9\n",
            "\n",
            "model coeficients:\n",
            "      feature  coefficient\n",
            "0         TV     0.044730\n",
            "1      Radio     0.189195\n",
            "2  Newspaper     0.002761\n"
          ]
        }
      ],
      "source": [
        "import pandas as pd\n",
        "import numpy as np\n",
        "from sklearn.model_selection import train_test_split\n",
        "from sklearn.linear_model import LinearRegression\n",
        "from sklearn.metrics import mean_absolute_error, mean_squared_error, r2_score\n",
        "from sklearn.ensemble import RandomForestRegressor\n",
        "\n",
        "df = pd.read_csv(\"/content/Advertising.csv\")\n",
        "\n",
        "print(df.head())\n",
        "\n",
        "X = df[['TV','Radio','Newspaper']]\n",
        "y = df[\"Sales\"]\n",
        "\n",
        "X_train, X_test, y_train, y_test = train_test_split(X, y, test_size=0.2, random_state=42)\n",
        "\n",
        "model= LinearRegression()\n",
        "model.fit(X_train, y_train)\n",
        "y_pred_lr = model.predict(X_test)\n",
        "coef_df=pd.DataFrame({'feature':X.columns,\"coefficient\":model.coef_})\n",
        "print(\"\\nmodel coeficients:\\n\",coef_df)\n",
        "\n",
        "\n",
        "# Random Forest Model\n",
        "rf = RandomForestRegressor(n_estimators=100, random_state=42)\n",
        "rf.fit(X_train, y_train)\n",
        "y_pred_rf = rf.predict(X_test)"
      ]
    }
  ]
}